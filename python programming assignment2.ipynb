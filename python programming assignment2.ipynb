{
 "cells": [
  {
   "cell_type": "code",
   "execution_count": 2,
   "id": "eb33a4c1",
   "metadata": {},
   "outputs": [
    {
     "name": "stdout",
     "output_type": "stream",
     "text": [
      "Enter No.of Kilometers:6\n",
      "6.0 kilometers= 3.7283999999999997 miles\n"
     ]
    }
   ],
   "source": [
    "#1. Write a Python program to convert kilometers to miles?\n",
    "\n",
    "km=float(input(\"Enter No.of Kilometers:\"))\n",
    "\n",
    "#one mile=0.6214kms\n",
    "#conversion factor=cf\n",
    "cf=0.6214\n",
    "\n",
    "miles=km*cf\n",
    "\n",
    "print(km,\"kilometers=\",miles,\"miles\")\n"
   ]
  },
  {
   "cell_type": "code",
   "execution_count": 6,
   "id": "05657993",
   "metadata": {},
   "outputs": [
    {
     "name": "stdout",
     "output_type": "stream",
     "text": [
      "Enter degrees celsius:33\n",
      "33.0 degrees celsius= 91.4 degrees fahrenheit\n"
     ]
    }
   ],
   "source": [
    "#2. Write a Python program to convert Celsius to Fahrenheit?\n",
    "\n",
    "celsius=float(input(\"Enter degrees celsius:\"))\n",
    "fahrenheit=celsius*1.80000 + 32.00\n",
    "print(celsius,\"degrees celsius=\",fahrenheit,\"degrees fahrenheit\")\n",
    "\n"
   ]
  },
  {
   "cell_type": "code",
   "execution_count": 7,
   "id": "c49530d3",
   "metadata": {},
   "outputs": [],
   "source": [
    "#3. Write a Python program to display calendar?"
   ]
  },
  {
   "cell_type": "code",
   "execution_count": 14,
   "id": "e50e71f5",
   "metadata": {},
   "outputs": [],
   "source": [
    "import calendar"
   ]
  },
  {
   "cell_type": "code",
   "execution_count": 16,
   "id": "e114fad4",
   "metadata": {},
   "outputs": [
    {
     "name": "stdout",
     "output_type": "stream",
     "text": [
      "Enter Year:2017\n",
      "Enter Month:9\n",
      "   September 2017\n",
      "Mo Tu We Th Fr Sa Su\n",
      "             1  2  3\n",
      " 4  5  6  7  8  9 10\n",
      "11 12 13 14 15 16 17\n",
      "18 19 20 21 22 23 24\n",
      "25 26 27 28 29 30\n",
      "\n"
     ]
    }
   ],
   "source": [
    "#year and month:\n",
    "\n",
    "yy = int(input(\"Enter Year:\"))\n",
    "mm = int(input(\"Enter Month:\"))\n",
    "\n",
    "print(calendar.month(yy,mm))"
   ]
  },
  {
   "cell_type": "code",
   "execution_count": 17,
   "id": "715953e2",
   "metadata": {},
   "outputs": [
    {
     "name": "stdout",
     "output_type": "stream",
     "text": [
      "The values of x may be: (3+0j) (2+0j)\n"
     ]
    }
   ],
   "source": [
    "#4. Write a Python program to solve quadratic equation.\n",
    "\n",
    "#Quadratic equation is ax**2+bx+c=0\n",
    "import cmath\n",
    "\n",
    "a=1\n",
    "b=-5\n",
    "c=6\n",
    "\n",
    "d=(b**2)-(4*a*c)\n",
    "\n",
    "x1=(-b+cmath.sqrt(d))/(2*a)\n",
    "x2=(-b-cmath.sqrt(d))/(2*a)\n",
    "\n",
    "print(\"The values of x may be:\",x1,x2)"
   ]
  },
  {
   "cell_type": "code",
   "execution_count": 18,
   "id": "11d8c1ab",
   "metadata": {},
   "outputs": [
    {
     "name": "stdout",
     "output_type": "stream",
     "text": [
      "Enter the First Number:10\n",
      "Enter the Second Number:20\n",
      "a: 10 b: 20\n",
      "a: 20 b: 10\n"
     ]
    }
   ],
   "source": [
    "#5. Write a Python program to swap two variables without temp variable?\n",
    "\n",
    "a=int(input(\"Enter the First Number:\"))\n",
    "b=int(input(\"Enter the Second Number:\"))\n",
    "\n",
    "print(\"a:\",a,\"b:\",b)\n",
    "\n",
    "(a,b)=(b,a)\n",
    "\n",
    "print(\"a:\",a,\"b:\",b)"
   ]
  },
  {
   "cell_type": "code",
   "execution_count": null,
   "id": "8d2c1462",
   "metadata": {},
   "outputs": [],
   "source": []
  }
 ],
 "metadata": {
  "kernelspec": {
   "display_name": "Python 3 (ipykernel)",
   "language": "python",
   "name": "python3"
  },
  "language_info": {
   "codemirror_mode": {
    "name": "ipython",
    "version": 3
   },
   "file_extension": ".py",
   "mimetype": "text/x-python",
   "name": "python",
   "nbconvert_exporter": "python",
   "pygments_lexer": "ipython3",
   "version": "3.9.7"
  }
 },
 "nbformat": 4,
 "nbformat_minor": 5
}
